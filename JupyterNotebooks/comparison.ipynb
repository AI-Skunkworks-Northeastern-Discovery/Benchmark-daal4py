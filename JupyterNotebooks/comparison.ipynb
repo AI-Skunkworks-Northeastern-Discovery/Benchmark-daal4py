{
 "cells": [
  {
   "cell_type": "code",
   "execution_count": 2,
   "id": "passing-graham",
   "metadata": {},
   "outputs": [],
   "source": [
    "import os\n",
    "import json \n",
    "import pandas as pd\n",
    "from glob import glob\n",
    "\n",
    "def stats(dir):\n",
    "    sub_directory = list(glob(dir))\n",
    "\n",
    "    all_latency = []\n",
    "    all_metrics = []\n",
    "    \n",
    "    for sub in sub_directory:    \n",
    "        dataset = sub.split('/')[2].split('__')[0]\n",
    "\n",
    "        with open (sub + 'latency_stats.json') as file:\n",
    "            latency_stats = json.loads(file.read())\n",
    "\n",
    "        with open (sub + 'metrics_stats.json') as file:\n",
    "            metrics_stats = json.loads(file.read())   \n",
    "\n",
    "        all_latency.append(pd.Series(latency_stats).to_frame('latency_stats_' + dataset))\n",
    "        all_metrics.append(pd.Series(metrics_stats).to_frame('metrics_stats_' + dataset))\n",
    "    return pd.concat(all_latency, axis=1), pd.concat(all_metrics, axis=1)"
   ]
  },
  {
   "cell_type": "code",
   "execution_count": 40,
   "id": "amber-release",
   "metadata": {},
   "outputs": [
    {
     "name": "stdout",
     "output_type": "stream",
     "text": [
      "(6499, 21)\n",
      "(1338, 7)\n",
      "(768, 9)\n",
      "(9134, 24)\n"
     ]
    }
   ],
   "source": [
    "import pandas as pd \n",
    "\n",
    "churn_df = pd.read_csv('./data/Churn.csv', encoding='utf-8')\n",
    "insurance_df = pd.read_csv('./data/insurance.csv', encoding='utf-8')\n",
    "#sales_df = pd.read_csv('./data/sales.csv', encoding='utf-8')\n",
    "diabetes_df = pd.read_csv('./data/diabetes.csv', encoding='utf-8')\n",
    "clv_df = pd.read_csv('./data/clv.csv', encoding='utf-8')\n",
    "\n",
    "print(churn_df.shape)\n",
    "print(insurance_df.shape)\n",
    "#print(sales_df.shape)\n",
    "print(diabetes_df.shape)\n",
    "print(clv_df.shape)\n"
   ]
  },
  {
   "cell_type": "code",
   "execution_count": 3,
   "id": "seventh-plumbing",
   "metadata": {},
   "outputs": [
    {
     "name": "stdout",
     "output_type": "stream",
     "text": [
      "total 122\n",
      "-rw-r--r-- 1 ullal.m users  385 Apr 11 19:37 latency_stats.json\n",
      "-rw-r--r-- 1 ullal.m users  407 Apr 11 19:37 metrics_stats.json\n",
      "-rw-r--r-- 1 ullal.m users 1839 Apr 11 19:37 Churn.log\n"
     ]
    }
   ],
   "source": [
    "!ls -ltr ./temp1/Churn__1_Serial__outputs/"
   ]
  },
  {
   "cell_type": "code",
   "execution_count": 4,
   "id": "uniform-upper",
   "metadata": {},
   "outputs": [],
   "source": [
    "# conda global version \n",
    "dir = './temp1/*/'\n",
    "\n",
    "all_latency1, all_metrics1 = stats(dir)"
   ]
  },
  {
   "cell_type": "code",
   "execution_count": 5,
   "id": "associate-saudi",
   "metadata": {},
   "outputs": [
    {
     "data": {
      "text/html": [
       "<div>\n",
       "<style scoped>\n",
       "    .dataframe tbody tr th:only-of-type {\n",
       "        vertical-align: middle;\n",
       "    }\n",
       "\n",
       "    .dataframe tbody tr th {\n",
       "        vertical-align: top;\n",
       "    }\n",
       "\n",
       "    .dataframe thead th {\n",
       "        text-align: right;\n",
       "    }\n",
       "</style>\n",
       "<table border=\"1\" class=\"dataframe\">\n",
       "  <thead>\n",
       "    <tr style=\"text-align: right;\">\n",
       "      <th></th>\n",
       "      <th>Insurance</th>\n",
       "      <th>CLV</th>\n",
       "      <th>Churn</th>\n",
       "      <th>Diabetes</th>\n",
       "      <th>Sales</th>\n",
       "    </tr>\n",
       "  </thead>\n",
       "  <tbody>\n",
       "    <tr>\n",
       "      <th>Linear Regression</th>\n",
       "      <td>0.001052</td>\n",
       "      <td>0.004636</td>\n",
       "      <td>0.232777</td>\n",
       "      <td>0.000622</td>\n",
       "      <td>0.001659</td>\n",
       "    </tr>\n",
       "    <tr>\n",
       "      <th>Linear Regression (O)</th>\n",
       "      <td>0.001811</td>\n",
       "      <td>0.005825</td>\n",
       "      <td>0.236855</td>\n",
       "      <td>0.000992</td>\n",
       "      <td>0.002504</td>\n",
       "    </tr>\n",
       "    <tr>\n",
       "      <th>Ridge Regression</th>\n",
       "      <td>0.000513</td>\n",
       "      <td>0.001037</td>\n",
       "      <td>0.019300</td>\n",
       "      <td>0.000471</td>\n",
       "      <td>0.000596</td>\n",
       "    </tr>\n",
       "    <tr>\n",
       "      <th>Linear Regression (SK)</th>\n",
       "      <td>0.003289</td>\n",
       "      <td>0.005042</td>\n",
       "      <td>0.305125</td>\n",
       "      <td>0.002890</td>\n",
       "      <td>0.003100</td>\n",
       "    </tr>\n",
       "    <tr>\n",
       "      <th>PCA</th>\n",
       "      <td>0.000993</td>\n",
       "      <td>0.004086</td>\n",
       "      <td>0.034784</td>\n",
       "      <td>0.059006</td>\n",
       "      <td>0.001340</td>\n",
       "    </tr>\n",
       "    <tr>\n",
       "      <th>SVD</th>\n",
       "      <td>0.000921</td>\n",
       "      <td>0.004114</td>\n",
       "      <td>0.009166</td>\n",
       "      <td>0.001222</td>\n",
       "      <td>0.001176</td>\n",
       "    </tr>\n",
       "  </tbody>\n",
       "</table>\n",
       "</div>"
      ],
      "text/plain": [
       "                        Insurance       CLV     Churn  Diabetes     Sales\n",
       "Linear Regression        0.001052  0.004636  0.232777  0.000622  0.001659\n",
       "Linear Regression (O)    0.001811  0.005825  0.236855  0.000992  0.002504\n",
       "Ridge Regression         0.000513  0.001037  0.019300  0.000471  0.000596\n",
       "Linear Regression (SK)   0.003289  0.005042  0.305125  0.002890  0.003100\n",
       "PCA                      0.000993  0.004086  0.034784  0.059006  0.001340\n",
       "SVD                      0.000921  0.004114  0.009166  0.001222  0.001176"
      ]
     },
     "execution_count": 5,
     "metadata": {},
     "output_type": "execute_result"
    }
   ],
   "source": [
    "all_latency1.index = ['Linear Regression', 'Linear Regression (O)', 'Ridge Regression', 'Linear Regression (SK)', 'PCA', 'SVD']\n",
    "all_latency1.columns = ['Insurance', 'CLV', 'Churn', 'Diabetes', 'Sales']\n",
    "all_latency1"
   ]
  },
  {
   "cell_type": "code",
   "execution_count": 6,
   "id": "central-projector",
   "metadata": {},
   "outputs": [
    {
     "data": {
      "text/html": [
       "<div>\n",
       "<style scoped>\n",
       "    .dataframe tbody tr th:only-of-type {\n",
       "        vertical-align: middle;\n",
       "    }\n",
       "\n",
       "    .dataframe tbody tr th {\n",
       "        vertical-align: top;\n",
       "    }\n",
       "\n",
       "    .dataframe thead th {\n",
       "        text-align: right;\n",
       "    }\n",
       "</style>\n",
       "<table border=\"1\" class=\"dataframe\">\n",
       "  <thead>\n",
       "    <tr style=\"text-align: right;\">\n",
       "      <th></th>\n",
       "      <th>Insurance</th>\n",
       "      <th>CLV</th>\n",
       "      <th>Churn</th>\n",
       "      <th>Diabetes</th>\n",
       "      <th>Sales</th>\n",
       "    </tr>\n",
       "  </thead>\n",
       "  <tbody>\n",
       "    <tr>\n",
       "      <th>LR_MSE</th>\n",
       "      <td>3.659232e+07</td>\n",
       "      <td>530.364648</td>\n",
       "      <td>0.137692</td>\n",
       "      <td>0.190051</td>\n",
       "      <td>0.217234</td>\n",
       "    </tr>\n",
       "    <tr>\n",
       "      <th>LR_R2_score</th>\n",
       "      <td>7.395338e-01</td>\n",
       "      <td>0.723483</td>\n",
       "      <td>0.254473</td>\n",
       "      <td>0.212351</td>\n",
       "      <td>0.344525</td>\n",
       "    </tr>\n",
       "    <tr>\n",
       "      <th>RR_MSE</th>\n",
       "      <td>3.636297e+07</td>\n",
       "      <td>515.014368</td>\n",
       "      <td>0.135447</td>\n",
       "      <td>0.168784</td>\n",
       "      <td>0.082981</td>\n",
       "    </tr>\n",
       "    <tr>\n",
       "      <th>RR_R2_score</th>\n",
       "      <td>7.411663e-01</td>\n",
       "      <td>0.731487</td>\n",
       "      <td>0.266632</td>\n",
       "      <td>0.300489</td>\n",
       "      <td>0.749617</td>\n",
       "    </tr>\n",
       "    <tr>\n",
       "      <th>SK_LR_MSE</th>\n",
       "      <td>3.634341e+07</td>\n",
       "      <td>514.658041</td>\n",
       "      <td>0.135429</td>\n",
       "      <td>0.169522</td>\n",
       "      <td>0.083310</td>\n",
       "    </tr>\n",
       "    <tr>\n",
       "      <th>SK_LR_R2_score</th>\n",
       "      <td>7.413056e-01</td>\n",
       "      <td>0.731672</td>\n",
       "      <td>0.266729</td>\n",
       "      <td>0.297430</td>\n",
       "      <td>0.748623</td>\n",
       "    </tr>\n",
       "  </tbody>\n",
       "</table>\n",
       "</div>"
      ],
      "text/plain": [
       "                   Insurance         CLV     Churn  Diabetes     Sales\n",
       "LR_MSE          3.659232e+07  530.364648  0.137692  0.190051  0.217234\n",
       "LR_R2_score     7.395338e-01    0.723483  0.254473  0.212351  0.344525\n",
       "RR_MSE          3.636297e+07  515.014368  0.135447  0.168784  0.082981\n",
       "RR_R2_score     7.411663e-01    0.731487  0.266632  0.300489  0.749617\n",
       "SK_LR_MSE       3.634341e+07  514.658041  0.135429  0.169522  0.083310\n",
       "SK_LR_R2_score  7.413056e-01    0.731672  0.266729  0.297430  0.748623"
      ]
     },
     "execution_count": 6,
     "metadata": {},
     "output_type": "execute_result"
    }
   ],
   "source": [
    "all_metrics1.index = ['LR_MSE', 'LR_R2_score', 'RR_MSE', 'RR_R2_score', 'SK_LR_MSE', 'SK_LR_R2_score']\n",
    "all_metrics1.columns = ['Insurance', 'CLV', 'Churn', 'Diabetes', 'Sales']\n",
    "all_metrics1"
   ]
  },
  {
   "cell_type": "code",
   "execution_count": 7,
   "id": "rotary-watch",
   "metadata": {},
   "outputs": [
    {
     "name": "stdout",
     "output_type": "stream",
     "text": [
      "total 122\n",
      "-rw-r--r-- 1 ullal.m users  391 Apr 11 19:39 latency_stats.json\n",
      "-rw-r--r-- 1 ullal.m users  408 Apr 11 19:39 metrics_stats.json\n",
      "-rw-r--r-- 1 ullal.m users 1839 Apr 11 19:39 Churn.log\n"
     ]
    }
   ],
   "source": [
    "!ls -ltr ./temp2/Churn__1_Serial__outputs/"
   ]
  },
  {
   "cell_type": "code",
   "execution_count": 8,
   "id": "differential-running",
   "metadata": {},
   "outputs": [],
   "source": [
    "# conda local version \n",
    "dir = './temp2/*/'\n",
    "all_latency2, all_metrics2 = stats(dir)"
   ]
  },
  {
   "cell_type": "code",
   "execution_count": 10,
   "id": "sharing-kitchen",
   "metadata": {},
   "outputs": [
    {
     "data": {
      "text/html": [
       "<div>\n",
       "<style scoped>\n",
       "    .dataframe tbody tr th:only-of-type {\n",
       "        vertical-align: middle;\n",
       "    }\n",
       "\n",
       "    .dataframe tbody tr th {\n",
       "        vertical-align: top;\n",
       "    }\n",
       "\n",
       "    .dataframe thead th {\n",
       "        text-align: right;\n",
       "    }\n",
       "</style>\n",
       "<table border=\"1\" class=\"dataframe\">\n",
       "  <thead>\n",
       "    <tr style=\"text-align: right;\">\n",
       "      <th></th>\n",
       "      <th>Insurance</th>\n",
       "      <th>CLV</th>\n",
       "      <th>Churn</th>\n",
       "      <th>Diabetes</th>\n",
       "      <th>Sales</th>\n",
       "    </tr>\n",
       "  </thead>\n",
       "  <tbody>\n",
       "    <tr>\n",
       "      <th>Linear Regression</th>\n",
       "      <td>0.000953</td>\n",
       "      <td>0.005070</td>\n",
       "      <td>0.010270</td>\n",
       "      <td>0.000706</td>\n",
       "      <td>0.001694</td>\n",
       "    </tr>\n",
       "    <tr>\n",
       "      <th>Linear Regression (O)</th>\n",
       "      <td>0.001612</td>\n",
       "      <td>0.006438</td>\n",
       "      <td>0.011820</td>\n",
       "      <td>0.001098</td>\n",
       "      <td>0.002567</td>\n",
       "    </tr>\n",
       "    <tr>\n",
       "      <th>Ridge Regression</th>\n",
       "      <td>0.000478</td>\n",
       "      <td>0.001078</td>\n",
       "      <td>0.002444</td>\n",
       "      <td>0.000470</td>\n",
       "      <td>0.000597</td>\n",
       "    </tr>\n",
       "    <tr>\n",
       "      <th>Linear Regression (SK)</th>\n",
       "      <td>0.002809</td>\n",
       "      <td>0.006566</td>\n",
       "      <td>0.010223</td>\n",
       "      <td>0.002845</td>\n",
       "      <td>0.003170</td>\n",
       "    </tr>\n",
       "    <tr>\n",
       "      <th>PCA</th>\n",
       "      <td>0.000839</td>\n",
       "      <td>0.006922</td>\n",
       "      <td>0.003023</td>\n",
       "      <td>0.000627</td>\n",
       "      <td>0.001328</td>\n",
       "    </tr>\n",
       "    <tr>\n",
       "      <th>SVD</th>\n",
       "      <td>0.000785</td>\n",
       "      <td>0.003830</td>\n",
       "      <td>0.004267</td>\n",
       "      <td>0.000640</td>\n",
       "      <td>0.001206</td>\n",
       "    </tr>\n",
       "  </tbody>\n",
       "</table>\n",
       "</div>"
      ],
      "text/plain": [
       "                        Insurance       CLV     Churn  Diabetes     Sales\n",
       "Linear Regression        0.000953  0.005070  0.010270  0.000706  0.001694\n",
       "Linear Regression (O)    0.001612  0.006438  0.011820  0.001098  0.002567\n",
       "Ridge Regression         0.000478  0.001078  0.002444  0.000470  0.000597\n",
       "Linear Regression (SK)   0.002809  0.006566  0.010223  0.002845  0.003170\n",
       "PCA                      0.000839  0.006922  0.003023  0.000627  0.001328\n",
       "SVD                      0.000785  0.003830  0.004267  0.000640  0.001206"
      ]
     },
     "execution_count": 10,
     "metadata": {},
     "output_type": "execute_result"
    }
   ],
   "source": [
    "all_latency2.index = ['Linear Regression', 'Linear Regression (O)', 'Ridge Regression', 'Linear Regression (SK)', 'PCA', 'SVD']\n",
    "all_latency2.columns = ['Insurance', 'CLV', 'Churn', 'Diabetes', 'Sales']\n",
    "all_latency2"
   ]
  },
  {
   "cell_type": "code",
   "execution_count": 11,
   "id": "purple-promise",
   "metadata": {},
   "outputs": [
    {
     "data": {
      "text/html": [
       "<div>\n",
       "<style scoped>\n",
       "    .dataframe tbody tr th:only-of-type {\n",
       "        vertical-align: middle;\n",
       "    }\n",
       "\n",
       "    .dataframe tbody tr th {\n",
       "        vertical-align: top;\n",
       "    }\n",
       "\n",
       "    .dataframe thead th {\n",
       "        text-align: right;\n",
       "    }\n",
       "</style>\n",
       "<table border=\"1\" class=\"dataframe\">\n",
       "  <thead>\n",
       "    <tr style=\"text-align: right;\">\n",
       "      <th></th>\n",
       "      <th>Insurance</th>\n",
       "      <th>CLV</th>\n",
       "      <th>Churn</th>\n",
       "      <th>Diabetes</th>\n",
       "      <th>Sales</th>\n",
       "    </tr>\n",
       "  </thead>\n",
       "  <tbody>\n",
       "    <tr>\n",
       "      <th>LR_MSE</th>\n",
       "      <td>4.010553e+07</td>\n",
       "      <td>549.251986</td>\n",
       "      <td>0.137740</td>\n",
       "      <td>0.182624</td>\n",
       "      <td>0.230385</td>\n",
       "    </tr>\n",
       "    <tr>\n",
       "      <th>LR_R2_score</th>\n",
       "      <td>7.290967e-01</td>\n",
       "      <td>0.716688</td>\n",
       "      <td>0.240132</td>\n",
       "      <td>0.194597</td>\n",
       "      <td>0.376140</td>\n",
       "    </tr>\n",
       "    <tr>\n",
       "      <th>RR_MSE</th>\n",
       "      <td>4.011137e+07</td>\n",
       "      <td>537.095800</td>\n",
       "      <td>0.134518</td>\n",
       "      <td>0.177249</td>\n",
       "      <td>0.082653</td>\n",
       "    </tr>\n",
       "    <tr>\n",
       "      <th>RR_R2_score</th>\n",
       "      <td>7.290572e-01</td>\n",
       "      <td>0.722958</td>\n",
       "      <td>0.257907</td>\n",
       "      <td>0.218305</td>\n",
       "      <td>0.776185</td>\n",
       "    </tr>\n",
       "    <tr>\n",
       "      <th>SK_LR_MSE</th>\n",
       "      <td>4.017724e+07</td>\n",
       "      <td>536.749618</td>\n",
       "      <td>0.134524</td>\n",
       "      <td>0.179773</td>\n",
       "      <td>0.082131</td>\n",
       "    </tr>\n",
       "    <tr>\n",
       "      <th>SK_LR_R2_score</th>\n",
       "      <td>7.286123e-01</td>\n",
       "      <td>0.723137</td>\n",
       "      <td>0.257878</td>\n",
       "      <td>0.207171</td>\n",
       "      <td>0.777598</td>\n",
       "    </tr>\n",
       "  </tbody>\n",
       "</table>\n",
       "</div>"
      ],
      "text/plain": [
       "                   Insurance         CLV     Churn  Diabetes     Sales\n",
       "LR_MSE          4.010553e+07  549.251986  0.137740  0.182624  0.230385\n",
       "LR_R2_score     7.290967e-01    0.716688  0.240132  0.194597  0.376140\n",
       "RR_MSE          4.011137e+07  537.095800  0.134518  0.177249  0.082653\n",
       "RR_R2_score     7.290572e-01    0.722958  0.257907  0.218305  0.776185\n",
       "SK_LR_MSE       4.017724e+07  536.749618  0.134524  0.179773  0.082131\n",
       "SK_LR_R2_score  7.286123e-01    0.723137  0.257878  0.207171  0.777598"
      ]
     },
     "execution_count": 11,
     "metadata": {},
     "output_type": "execute_result"
    }
   ],
   "source": [
    "all_metrics2.index = ['LR_MSE', 'LR_R2_score', 'RR_MSE', 'RR_R2_score', 'SK_LR_MSE', 'SK_LR_R2_score']\n",
    "all_metrics2.columns = ['Insurance', 'CLV', 'Churn', 'Diabetes', 'Sales']\n",
    "all_metrics2"
   ]
  },
  {
   "cell_type": "code",
   "execution_count": 23,
   "id": "narrow-discovery",
   "metadata": {},
   "outputs": [
    {
     "name": "stdout",
     "output_type": "stream",
     "text": [
      "6\n"
     ]
    }
   ],
   "source": [
    "print(len(x2))"
   ]
  },
  {
   "cell_type": "code",
   "execution_count": 31,
   "id": "broken-french",
   "metadata": {},
   "outputs": [
    {
     "data": {
      "image/png": "[encoded data removed]",
      "text/plain": [
       "<Figure size 1440x360 with 5 Axes>"
      ]
     },
     "metadata": {
      "needs_background": "light"
     },
     "output_type": "display_data"
    }
   ],
   "source": [
    "import matplotlib.pyplot as plt\n",
    "import numpy as np\n",
    "\n",
    "datasets = list(all_metrics2.columns)\n",
    "\n",
    "_, ax = plt.subplots(1,5, figsize=(20,5))\n",
    "\n",
    "x1 = list(all_latency1.index)\n",
    "x2 = np.arange(len(x1))\n",
    "\n",
    "for i, dataset in enumerate(datasets):\n",
    "    column = dataset\n",
    "    y1 = list(all_latency1[column])\n",
    "    y2 = list(all_latency2[column])\n",
    "\n",
    "    ax[i].bar(x2,y1, width=0.3, label = 'local')    \n",
    "    ax[i].bar(x2+0.3,y2, width=0.3, label = 'global')\n",
    "    ax[i].set_xticklabels(x1, rotation=10)\n",
    "    ax[i].set_ylabel('Run Time')\n",
    "    ax[i].legend()\n",
    "    ax[i].title.set_text(dataset)\n",
    "    \n",
    "plt.show()"
   ]
  }
 ],
 "metadata": {
  "kernelspec": {
   "display_name": "Python 3",
   "language": "python",
   "name": "python3"
  },
  "language_info": {
   "codemirror_mode": {
    "name": "ipython",
    "version": 3
   },
   "file_extension": ".py",
   "mimetype": "text/x-python",
   "name": "python",
   "nbconvert_exporter": "python",
   "pygments_lexer": "ipython3",
   "version": "3.8.5"
  }
 },
 "nbformat": 4,
 "nbformat_minor": 5
}
